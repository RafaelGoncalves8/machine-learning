{
 "cells": [
  {
   "cell_type": "markdown",
   "metadata": {},
   "source": [
    "$\\text{Nome: Rafael Gonçalves  -  RA: 186062}$"
   ]
  },
  {
   "cell_type": "markdown",
   "metadata": {},
   "source": [
    "# Parte I - Atividades teóricas"
   ]
  },
  {
   "cell_type": "markdown",
   "metadata": {},
   "source": [
    "## Exercício 1"
   ]
  },
  {
   "cell_type": "markdown",
   "metadata": {},
   "source": [
    "a) $P(A^C) = 1 - P(A) = 1 - \\frac{1}{3} = \\frac{2}{3}$\n",
    "\n",
    "b) $P(A^C \\cup B) = P(A^C) + P(B) - P(A^CB) = P(A^C) + P(B) - (P(B) - P(AB)) = P(A^C) + P(AB) = \\frac{2}{3} + \\frac{1}{6} = \\frac{5}{6}$\n",
    "\n",
    "c) $P(A \\cup B^C) = P(A) + P(B^C) - P(AB^C) = P(B^C) + P(AB) = (1 - P(B)) + P(AB) = (1 - \\frac{1}{4}) + \\frac{1}{6} = \\frac{5}{12}$\n",
    "\n",
    "d) $P(AB^C) = P(A) + P(B^C) - P(A \\cup B^C) = \\frac{1}{3} + \\frac{3}{4} - \\frac{5}{12} = \\frac{8}{12}$\n",
    "\n",
    "e) $P(A^C \\cup B^C) = P(A^C) + P(B^C) - P(A^CB^C) = \\frac{2}{3} + \\frac{3}{4} - \\frac{5}{6} = \\frac{7}{12}$"
   ]
  },
  {
   "cell_type": "markdown",
   "metadata": {},
   "source": [
    "## Exercício 2"
   ]
  },
  {
   "cell_type": "markdown",
   "metadata": {},
   "source": [
    "a) $$\n",
    "    F_X(x) = P(X \\leq x) = \\int\\limits_{-\\infty}^x f_X(\\xi) d\\xi = \\int\\limits_{-\\infty}^x \\frac{1}{2} d\\xi = \\left[ \\frac{1}{2}\\xi \\right]^x_0 = \\frac{1}{2} x, \\forall X \\in [0, 2]\n",
    "$$\n",
    "\n",
    "b)\n",
    "\n",
    "$E\\{X\\} = \\int\\limits_{-\\infty}^{\\infty} xf_X(x)dx = \\int\\limits_0^2 \\frac{1}{2}x dx = \\left[\\frac{x^2}{4}\\right]^2_0 = 1$\n",
    "\n",
    "$E\\{X^2\\} = \\int\\limits_{-\\infty}^{\\infty} x^2f_X(x)dx = \\int\\limits_0^2 \\frac{1}{2}x^2 dx = \\left[\\frac{x^3}{6}\\right]^2_0 = \\frac{4}{3}$\n",
    "\n",
    "$E\\{X^3\\} = \\int\\limits_{-\\infty}^{\\infty} x^3f_X(x)dx = \\int\\limits_0^2 \\frac{1}{2}x^3 dx = \\left[\\frac{x^4}{8}\\right]^2_0 = 2$"
   ]
  },
  {
   "cell_type": "markdown",
   "metadata": {},
   "source": [
    "## Exercício 3"
   ]
  },
  {
   "cell_type": "markdown",
   "metadata": {},
   "source": [
    "a) $X_2$, pois quanto mais próximo da distribuição uniforme, mais difícil é acertar o resultado de um evento aleatório \"chutando um valor\", ou seja, a variável aleatória $X_2$ carrega mais informação que a variável aleatória $X_1$, pois neste último eu poderia supor que o resultado será sempre 3 com uma taxa de acertos de 40% contra uma taxa de acertos de 25% para qualquer valor estimado para $X_2$ se não tivermos nenhuma informação _a priori_.\n",
    "\n",
    "b)\n",
    "\n",
    "$H(X_1) = - \\sum\\limits_x p(X_1)log_2[p(X_1)] = -[0,1(-3,32) + 0,2(-2,32) + 0,3(-1,74) + 0,4(-1,32)] = 1,85$\n",
    "\n",
    "$H(X_2) = - \\sum\\limits_x p(X_2)log_2[p(X_2)] = - [0,25 (-2) + 0,25 (-2) + 0,25 (-2) + 0,25(-2)] = 2$\n",
    "\n",
    "c)\n",
    "\n",
    "$D(P_1 || P_2) = \\sum\\limits_x p(X_1)log_2\\left[\\frac{p(X_1)}{p(X_2)}\\right] = 0,1(-1,32) + 0,2(-0,32) + 0,3(-0,26) + 0,4(-0,68) = -0,54$\n",
    "\n",
    "$D(P_2 || P_1) = \\sum\\limits_x p(X_2)log_2\\left[\\frac{p(X_2)}{p(X_1)}\\right] = 0,25(1.32 +  0.32 - 0.26 -0.68) = 0,18$"
   ]
  },
  {
   "cell_type": "markdown",
   "metadata": {},
   "source": [
    "## Exercício 4"
   ]
  },
  {
   "cell_type": "markdown",
   "metadata": {},
   "source": [
    "a) $\\mu_{ML} = arg max_\\theta p(x|\\mu) = arg max_\\theta log[p(x|\\mu)] = arg max_\\theta \\frac{p(x\\mu)}{p(\\mu)} = x$\n",
    "\n",
    "b) $\\mu_{ML} = arg max_\\theta p(\\mathbf{x}|\\mu) = arg ax_\\theta log[p(\\mathbf{x}|\\mu)] = arg max_\\theta \\sum\\limits_{k=1}^{N} log[p(x_K|\\mu)] =  arg max_\\theta \\sum\\limits_{k=1}^{N} log\\left[\\frac{p(x_K\\mu)}{p(\\mu)}\\right] $\n",
    "\n",
    "c) "
   ]
  },
  {
   "cell_type": "markdown",
   "metadata": {},
   "source": [
    "# Parte II - Atividade computacional"
   ]
  },
  {
   "cell_type": "markdown",
   "metadata": {},
   "source": [
    "### Importa bibliotecas"
   ]
  },
  {
   "cell_type": "code",
   "execution_count": 137,
   "metadata": {},
   "outputs": [],
   "source": [
    "import os\n",
    "import urllib.request\n",
    "import random\n",
    "random.seed = 42\n",
    "import numpy as np\n",
    "np.random.seed = 42\n",
    "import matplotlib.pyplot as plt\n",
    "%matplotlib inline"
   ]
  },
  {
   "cell_type": "markdown",
   "metadata": {},
   "source": [
    "### Download dataset"
   ]
  },
  {
   "cell_type": "code",
   "execution_count": 94,
   "metadata": {},
   "outputs": [
    {
     "data": {
      "text/plain": [
       "('/home/rafael/inbox/machine-learning/data/sunspot.txt',\n",
       " <http.client.HTTPMessage at 0x7fa4594505c0>)"
      ]
     },
     "execution_count": 94,
     "metadata": {},
     "output_type": "execute_result"
    }
   ],
   "source": [
    "data_url = 'http://www.dca.fee.unicamp.br/~lboccato/sunspot.txt'\n",
    "data_dir = os.path.abspath(os.path.relpath('../data'))\n",
    "data_path = os.path.join(data_dir, 'sunspot.txt')\n",
    "\n",
    "urllib.request.urlretrieve(data_url, data_path)"
   ]
  },
  {
   "cell_type": "code",
   "execution_count": 95,
   "metadata": {},
   "outputs": [
    {
     "name": "stdout",
     "output_type": "stream",
     "text": [
      " 1749   58.0  62.6  70.0  55.7  85.0  83.5  94.8  66.3  75.9  75.5 158.6  85.2\r\n",
      " 1750   73.3  75.9  89.2  88.3  90.0 100.0  85.4 103.0  91.2  65.7  63.3  75.4\r\n",
      " 1751   70.0  43.5  45.3  56.4  60.7  50.7  66.3  59.8  23.5  23.2  28.5  44.0\r\n",
      " 1752   35.0  50.0  71.0  59.3  59.7  39.6  78.4  29.3  27.1  46.6  37.6  40.0\r\n",
      " 1753   44.0  32.0  45.7  38.0  36.0  31.7  22.0  39.0  28.0  25.0  20.0   6.7\r\n",
      " 1754    0.0   3.0   1.7  13.7  20.7  26.7  18.8  12.3   8.2  24.1  13.2   4.2\r\n",
      " 1755   10.2  11.2   6.8   6.5   0.0   0.0   8.6   3.2  17.8  23.7   6.8  20.0\r\n",
      " 1756   12.5   7.1   5.4   9.4  12.5  12.9   3.6   6.4  11.8  14.3  17.0   9.4\r\n",
      " 1757   14.1  21.2  26.2  30.0  38.1  12.8  25.0  51.3  39.7  32.5  64.7  33.5\r\n",
      " 1758   37.6  52.0  49.0  72.3  46.4  45.0  44.0  38.7  62.5  37.7  43.0  43.0\r\n"
     ]
    }
   ],
   "source": [
    "%%bash\n",
    "head ../data/sunspot.txt"
   ]
  },
  {
   "cell_type": "markdown",
   "metadata": {},
   "source": [
    "### Importa dataset"
   ]
  },
  {
   "cell_type": "code",
   "execution_count": 96,
   "metadata": {},
   "outputs": [],
   "source": [
    "dataset = np.loadtxt(data_path, usecols=range(1,13))"
   ]
  },
  {
   "cell_type": "code",
   "execution_count": 97,
   "metadata": {},
   "outputs": [
    {
     "data": {
      "text/plain": [
       "(266, 12)"
      ]
     },
     "execution_count": 97,
     "metadata": {},
     "output_type": "execute_result"
    }
   ],
   "source": [
    "dataset.shape"
   ]
  },
  {
   "cell_type": "markdown",
   "metadata": {},
   "source": [
    "### Cria conjunto de teste e conjunto de treino"
   ]
  },
  {
   "cell_type": "code",
   "execution_count": 98,
   "metadata": {},
   "outputs": [],
   "source": [
    "K = 20 # temporal window size\n",
    "N = dataset.shape[0] # number of samples\n",
    "M = N-K+1 # number of samples of new dataset\n",
    "X = np.empty((M,K))\n",
    "y = np.empty((M,1))\n",
    "\n",
    "for i in range(M):\n",
    "    for k in range(K):\n",
    "        X[i][k] = dataset.flatten()[(i+K) - (k + 1)]\n",
    "    y[i][0] = (dataset.flatten()[i+K])\n"
   ]
  },
  {
   "cell_type": "code",
   "execution_count": 99,
   "metadata": {},
   "outputs": [],
   "source": [
    "X_train = np.array(X[:-5])\n",
    "X_test = np.array(X[-5:])\n",
    "y_train = np.array(y[:-5])\n",
    "y_test = np.array(y[-5:])"
   ]
  },
  {
   "cell_type": "code",
   "execution_count": 100,
   "metadata": {},
   "outputs": [],
   "source": [
    "X_train_bias = np.column_stack((np.ones(X_train.shape[0]), X_train))\n",
    "X_test_bias = np.column_stack((np.ones(X_test.shape[0]), X_test))"
   ]
  },
  {
   "cell_type": "code",
   "execution_count": 101,
   "metadata": {},
   "outputs": [
    {
     "data": {
      "text/plain": [
       "((242, 21), (5, 21))"
      ]
     },
     "execution_count": 101,
     "metadata": {},
     "output_type": "execute_result"
    }
   ],
   "source": [
    "X_train_bias.shape, X_test_bias.shape"
   ]
  },
  {
   "cell_type": "markdown",
   "metadata": {},
   "source": [
    "### Define RMSE como critério de erro"
   ]
  },
  {
   "cell_type": "code",
   "execution_count": 102,
   "metadata": {},
   "outputs": [],
   "source": [
    "def rmse(output, target):\n",
    "    \"\"\"Root Mean Squared Error\"\"\"\n",
    "    error = np.subtract(output, target)\n",
    "    error = np.square(error)\n",
    "    error = np.sum(error)/np.size(error)\n",
    "    return np.sqrt(error)"
   ]
  },
  {
   "cell_type": "markdown",
   "metadata": {},
   "source": [
    "### Regressão linear na forma matricial"
   ]
  },
  {
   "cell_type": "code",
   "execution_count": 103,
   "metadata": {},
   "outputs": [],
   "source": [
    "linreg = lambda W, X: np.dot(X, W)"
   ]
  },
  {
   "cell_type": "markdown",
   "metadata": {},
   "source": [
    "## a) Solução ótima com MMQ"
   ]
  },
  {
   "cell_type": "code",
   "execution_count": 104,
   "metadata": {},
   "outputs": [],
   "source": [
    "mmq = lambda X, y: np.dot(np.dot(np.linalg.inv(np.dot(X.T, X)), X.T), y)"
   ]
  },
  {
   "cell_type": "code",
   "execution_count": 105,
   "metadata": {},
   "outputs": [],
   "source": [
    "W_train = mmq(X_train_bias, y_train)\n",
    "W_test = mmq(X_test_bias, y_test)"
   ]
  },
  {
   "cell_type": "code",
   "execution_count": 106,
   "metadata": {},
   "outputs": [],
   "source": [
    "out_train = linreg(W_train, X_train_bias)\n",
    "out_test = linreg(W_train, X_test_bias)"
   ]
  },
  {
   "cell_type": "code",
   "execution_count": 107,
   "metadata": {},
   "outputs": [
    {
     "name": "stdout",
     "output_type": "stream",
     "text": [
      "RMSE do conjunto de treino: 13.972766440052313\n",
      "RMSE do conjunto de teste: 28.492530791192834\n"
     ]
    }
   ],
   "source": [
    "print(\"RMSE do conjunto de treino: {}\\nRMSE do conjunto de teste: {}\".format(rmse(out_train, y_train), rmse(out_test, y_test)))"
   ]
  },
  {
   "cell_type": "code",
   "execution_count": 108,
   "metadata": {},
   "outputs": [
    {
     "data": {
      "image/png": "[encoded data removed]",
      "text/plain": [
       "<Figure size 432x288 with 1 Axes>"
      ]
     },
     "metadata": {
      "needs_background": "light"
     },
     "output_type": "display_data"
    }
   ],
   "source": [
    "x_axis = [2010, 2011, 2012, 2013, 2014]\n",
    "plt.plot(x_axis, out_test, '-r')\n",
    "plt.plot(x_axis, y_test, '-b')\n",
    "plt.xlabel('Ano')\n",
    "plt.legend(('output', 'target'))\n",
    "plt.title('Comparação entre saída e rotulos no conjunto de teste.')\n",
    "plt.show()"
   ]
  },
  {
   "cell_type": "markdown",
   "metadata": {},
   "source": [
    "## b) Seleção de variáveis, validação cruzada e regularização"
   ]
  },
  {
   "cell_type": "code",
   "execution_count": 124,
   "metadata": {},
   "outputs": [],
   "source": [
    "def kfold(X, y, K, lamb_vec):\n",
    "    N = X.shape[0]\n",
    "    min_rmse = 999\n",
    "    min_lamb = None\n",
    "    for l in lamb_vec:\n",
    "        error = 0\n",
    "        for i in range(K):\n",
    "            slic = range(int(i*N/K),int((i+1)*N/K))\n",
    "            Xprime = X[slic,:]\n",
    "            target = y[slic]\n",
    "            w = np.dot(np.dot(np.linalg.inv(np.dot(Xprime.T, Xprime) + l*np.eye(Xprime.shape[1])), Xprime.T), target)\n",
    "            out = linreg(w, Xprime)\n",
    "            error += rmse(out, target)            \n",
    "        error /= K    \n",
    "        if error <= min_rmse:\n",
    "            min_rmse = error\n",
    "            min_lamb = l\n",
    "    return (min_rmse, min_lamb)\n",
    "    "
   ]
  },
  {
   "cell_type": "code",
   "execution_count": 125,
   "metadata": {},
   "outputs": [],
   "source": [
    "def wrapper(X, y, N, K, lamb_vec):\n",
    "    \"\"\"Backward selection of the N inputs using K fold cross validation for choosing ridge regression hyperparameters.\"\"\"\n",
    "    for i in range(N):\n",
    "        Xprime = X[:,:X.shape[1]-i]\n",
    "        (error, lamb) = kfold(Xprime, y, K, lamb_vec)\n",
    "        print(\"N = {}\".format(i))\n",
    "        print(\"min RMSE = {}\\nlambda = {}\\n\".format(error, lamb))        "
   ]
  },
  {
   "cell_type": "code",
   "execution_count": 152,
   "metadata": {},
   "outputs": [
    {
     "name": "stdout",
     "output_type": "stream",
     "text": [
      "N = 0\n",
      "min RMSE = 4.9748325731518825\n",
      "lambda = 1.9985404006786056e-06\n",
      "\n",
      "N = 1\n",
      "min RMSE = 5.789795293490264\n",
      "lambda = 1.9985404006786056e-06\n",
      "\n",
      "N = 2\n",
      "min RMSE = 6.206328465387806\n",
      "lambda = 1.9985404006786056e-06\n",
      "\n",
      "N = 3\n",
      "min RMSE = 6.9431899063164435\n",
      "lambda = 1.9985404006786056e-06\n",
      "\n",
      "N = 4\n",
      "min RMSE = 7.410169492257451\n",
      "lambda = 1.9985404006786056e-06\n",
      "\n",
      "N = 5\n",
      "min RMSE = 7.855196313369805\n",
      "lambda = 1.9985404006786056e-06\n",
      "\n",
      "N = 6\n",
      "min RMSE = 8.008427035371232\n",
      "lambda = 1.9985404006786056e-06\n",
      "\n",
      "N = 7\n",
      "min RMSE = 8.33713881076942\n",
      "lambda = 1.9985404006786056e-06\n",
      "\n",
      "N = 8\n",
      "min RMSE = 8.899932067245782\n",
      "lambda = 1.9985404006786056e-06\n",
      "\n",
      "N = 9\n",
      "min RMSE = 9.096362690323726\n",
      "lambda = 1.9985404006786056e-06\n",
      "\n",
      "N = 10\n",
      "min RMSE = 9.483113014054792\n",
      "lambda = 1.9985404006786056e-06\n",
      "\n",
      "N = 11\n",
      "min RMSE = 9.95386809767428\n",
      "lambda = 1.9985404006786056e-06\n",
      "\n",
      "N = 12\n",
      "min RMSE = 10.392557867291647\n",
      "lambda = 1.9985404006786056e-06\n",
      "\n",
      "N = 13\n",
      "min RMSE = 10.653231841915765\n",
      "lambda = 1.9985404006786056e-06\n",
      "\n",
      "N = 14\n",
      "min RMSE = 11.099920252678261\n",
      "lambda = 1.9985404006786056e-06\n",
      "\n",
      "N = 15\n",
      "min RMSE = 11.213140604114418\n",
      "lambda = 1.9985404006786056e-06\n",
      "\n",
      "N = 16\n",
      "min RMSE = 11.638509950651798\n",
      "lambda = 1.9985404006786056e-06\n",
      "\n",
      "N = 17\n",
      "min RMSE = 11.878986115706942\n",
      "lambda = 1.9985404006786056e-06\n",
      "\n",
      "N = 18\n",
      "min RMSE = 12.367001126056277\n",
      "lambda = 1.9985404006786056e-06\n",
      "\n",
      "N = 19\n",
      "min RMSE = 12.853382536915607\n",
      "lambda = 1.9985404006786056e-06\n",
      "\n"
     ]
    }
   ],
   "source": [
    "lamb_vec = [np.random.random()*0.001 + 1E-7 for _ in range(100)]\n",
    "wrapper(X_train_bias, y_train, 20, 10, lamb_vec)"
   ]
  },
  {
   "cell_type": "code",
   "execution_count": 156,
   "metadata": {},
   "outputs": [],
   "source": [
    "l = 3.58E-6\n",
    "Xprime = X_test_bias\n",
    "target = y_test\n",
    "w = np.dot(np.dot(np.linalg.inv(np.dot(Xprime.T, Xprime) + l*np.eye(Xprime.shape[1])), Xprime.T), target)"
   ]
  },
  {
   "cell_type": "code",
   "execution_count": 157,
   "metadata": {},
   "outputs": [],
   "source": [
    "out_test = linreg(w, X_test_bias)"
   ]
  },
  {
   "cell_type": "code",
   "execution_count": 158,
   "metadata": {},
   "outputs": [
    {
     "name": "stdout",
     "output_type": "stream",
     "text": [
      "0.00048499481914528213\n"
     ]
    }
   ],
   "source": [
    "print(rmse(out_test, target))"
   ]
  },
  {
   "cell_type": "code",
   "execution_count": 163,
   "metadata": {},
   "outputs": [
    {
     "data": {
      "image/png": "[encoded data removed]",
      "text/plain": [
       "<Figure size 432x288 with 1 Axes>"
      ]
     },
     "metadata": {
      "needs_background": "light"
     },
     "output_type": "display_data"
    }
   ],
   "source": [
    "x_axis = [2010, 2011, 2012, 2013, 2014]\n",
    "plt.plot(x_axis, y_test, '-b')\n",
    "plt.plot(x_axis, out_test, '-r')\n",
    "plt.xlabel('Ano')\n",
    "plt.legend(('output', 'target'))\n",
    "plt.title('Comparação entre saída e rotulos no conjunto de teste com seleção de features e regularização L2.')\n",
    "plt.show()"
   ]
  },
  {
   "cell_type": "code",
   "execution_count": null,
   "metadata": {},
   "outputs": [],
   "source": []
  }
 ],
 "metadata": {
  "kernelspec": {
   "display_name": "Python 3",
   "language": "python",
   "name": "python3"
  },
  "language_info": {
   "codemirror_mode": {
    "name": "ipython",
    "version": 3
   },
   "file_extension": ".py",
   "mimetype": "text/x-python",
   "name": "python",
   "nbconvert_exporter": "python",
   "pygments_lexer": "ipython3",
   "version": "3.7.3"
  }
 },
 "nbformat": 4,
 "nbformat_minor": 2
}
