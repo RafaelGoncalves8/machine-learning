{
 "cells": [
  {
   "cell_type": "markdown",
   "metadata": {},
   "source": [
    "### Importa bibliotecas"
   ]
  },
  {
   "cell_type": "code",
   "execution_count": 1,
   "metadata": {},
   "outputs": [],
   "source": [
    "import os\n",
    "import urllib.request\n",
    "import random\n",
    "import numpy as np\n",
    "import matplotlib.pyplot as plt\n",
    "%matplotlib inline"
   ]
  },
  {
   "cell_type": "code",
   "execution_count": 2,
   "metadata": {},
   "outputs": [],
   "source": [
    "random.seed = 42\n",
    "np.random.seed = 42"
   ]
  },
  {
   "cell_type": "markdown",
   "metadata": {},
   "source": [
    "### Download dataset"
   ]
  },
  {
   "cell_type": "code",
   "execution_count": 3,
   "metadata": {},
   "outputs": [
    {
     "data": {
      "text/plain": [
       "('/home/rafael/inbox/machine-learning/data/sunspot.txt',\n",
       " <http.client.HTTPMessage at 0x7fe54549d128>)"
      ]
     },
     "execution_count": 3,
     "metadata": {},
     "output_type": "execute_result"
    }
   ],
   "source": [
    "data_url = 'http://www.dca.fee.unicamp.br/~lboccato/sunspot.txt'\n",
    "data_dir = os.path.abspath(os.path.relpath('../data'))\n",
    "data_path = os.path.join(data_dir, 'sunspot.txt')\n",
    "\n",
    "urllib.request.urlretrieve(data_url, data_path)"
   ]
  },
  {
   "cell_type": "code",
   "execution_count": 4,
   "metadata": {},
   "outputs": [
    {
     "name": "stdout",
     "output_type": "stream",
     "text": [
      " 1749   58.0  62.6  70.0  55.7  85.0  83.5  94.8  66.3  75.9  75.5 158.6  85.2\r\n",
      " 1750   73.3  75.9  89.2  88.3  90.0 100.0  85.4 103.0  91.2  65.7  63.3  75.4\r\n",
      " 1751   70.0  43.5  45.3  56.4  60.7  50.7  66.3  59.8  23.5  23.2  28.5  44.0\r\n",
      " 1752   35.0  50.0  71.0  59.3  59.7  39.6  78.4  29.3  27.1  46.6  37.6  40.0\r\n",
      " 1753   44.0  32.0  45.7  38.0  36.0  31.7  22.0  39.0  28.0  25.0  20.0   6.7\r\n",
      " 1754    0.0   3.0   1.7  13.7  20.7  26.7  18.8  12.3   8.2  24.1  13.2   4.2\r\n",
      " 1755   10.2  11.2   6.8   6.5   0.0   0.0   8.6   3.2  17.8  23.7   6.8  20.0\r\n",
      " 1756   12.5   7.1   5.4   9.4  12.5  12.9   3.6   6.4  11.8  14.3  17.0   9.4\r\n",
      " 1757   14.1  21.2  26.2  30.0  38.1  12.8  25.0  51.3  39.7  32.5  64.7  33.5\r\n",
      " 1758   37.6  52.0  49.0  72.3  46.4  45.0  44.0  38.7  62.5  37.7  43.0  43.0\r\n"
     ]
    }
   ],
   "source": [
    "%%bash\n",
    "head ../data/sunspot.txt"
   ]
  },
  {
   "cell_type": "markdown",
   "metadata": {},
   "source": [
    "### Importa dataset"
   ]
  },
  {
   "cell_type": "code",
   "execution_count": 5,
   "metadata": {},
   "outputs": [],
   "source": [
    "dataset = np.loadtxt(data_path, usecols=range(1,13))"
   ]
  },
  {
   "cell_type": "code",
   "execution_count": 6,
   "metadata": {},
   "outputs": [
    {
     "data": {
      "text/plain": [
       "(266, 12)"
      ]
     },
     "execution_count": 6,
     "metadata": {},
     "output_type": "execute_result"
    }
   ],
   "source": [
    "dataset.shape"
   ]
  },
  {
   "cell_type": "markdown",
   "metadata": {},
   "source": [
    "### Cria conjunto de teste e conjunto de treino"
   ]
  },
  {
   "cell_type": "code",
   "execution_count": 7,
   "metadata": {},
   "outputs": [],
   "source": [
    "K = 20 # temporal window size\n",
    "N = np.size(dataset) # number of samples\n",
    "M = N-K # number of samples of new dataset\n",
    "X = np.empty((M,K))\n",
    "y = np.empty((M,1))\n",
    "\n",
    "for i in range(M):\n",
    "    for k in range(K):\n",
    "        X[i][k] = dataset.flatten()[(i+K) - (k + 1)]\n",
    "    y[i][0] = (dataset.flatten()[i+K])"
   ]
  },
  {
   "cell_type": "code",
   "execution_count": 8,
   "metadata": {},
   "outputs": [],
   "source": [
    "n_test_samples = 5*12 # 5 years\n",
    "\n",
    "X_train = np.array(X[:-n_test_samples])\n",
    "y_train = np.array(y[:-n_test_samples])\n",
    "\n",
    "X_test = np.array(X[-n_test_samples:])\n",
    "y_test = np.array(y[-n_test_samples:])"
   ]
  },
  {
   "cell_type": "code",
   "execution_count": null,
   "metadata": {},
   "outputs": [],
   "source": [
    "Phi_train = np.column_stack((np.ones(X_train.shape[0]), X_train))\n",
    "Phi_test = np.column_stack((np.ones(X_test.shape[0]), X_test))"
   ]
  },
  {
   "cell_type": "code",
   "execution_count": null,
   "metadata": {},
   "outputs": [
    {
     "data": {
      "text/plain": [
       "((3112, 21), (3112, 1), (60, 21), (60, 1))"
      ]
     },
     "execution_count": 10,
     "metadata": {},
     "output_type": "execute_result"
    }
   ],
   "source": [
    "Phi_train.shape, y_train.shape, Phi_test.shape, y_test.shape"
   ]
  },
  {
   "cell_type": "markdown",
   "metadata": {},
   "source": [
    "### Define RMSE como critério de erro"
   ]
  },
  {
   "cell_type": "code",
   "execution_count": null,
   "metadata": {},
   "outputs": [],
   "source": [
    "def rmse(output, target):\n",
    "    \"\"\"Root Mean Squared Error\"\"\"\n",
    "    error = np.subtract(output, target)\n",
    "    error = np.square(error)\n",
    "    error = np.sum(error)/np.size(error)\n",
    "    return np.sqrt(error)"
   ]
  },
  {
   "cell_type": "markdown",
   "metadata": {},
   "source": [
    "### Regressão linear na forma matricial"
   ]
  },
  {
   "cell_type": "code",
   "execution_count": null,
   "metadata": {},
   "outputs": [],
   "source": [
    "linreg = lambda W, Phi: np.dot(Phi, W)"
   ]
  },
  {
   "cell_type": "markdown",
   "metadata": {},
   "source": [
    "## a) Solução ótima com MMQ"
   ]
  },
  {
   "cell_type": "code",
   "execution_count": null,
   "metadata": {},
   "outputs": [],
   "source": [
    "mmq = lambda Phi, y: np.dot(np.dot(np.linalg.inv(np.dot(Phi.T, Phi)), Phi.T), y)"
   ]
  },
  {
   "cell_type": "code",
   "execution_count": null,
   "metadata": {},
   "outputs": [],
   "source": [
    "w = mmq(Phi_train, y_train)"
   ]
  },
  {
   "cell_type": "code",
   "execution_count": null,
   "metadata": {},
   "outputs": [],
   "source": [
    "out_train = linreg(w, Phi_train)\n",
    "out_test = linreg(w, Phi_test)"
   ]
  },
  {
   "cell_type": "code",
   "execution_count": null,
   "metadata": {
    "scrolled": true
   },
   "outputs": [
    {
     "name": "stdout",
     "output_type": "stream",
     "text": [
      "RMSE do conjunto de treino: 15.370232088543426\n",
      "RMSE do conjunto de teste: 14.249451112744566\n"
     ]
    }
   ],
   "source": [
    "print(\"RMSE do conjunto de treino: {}\\nRMSE do conjunto de teste: {}\".format(rmse(out_train, y_train), rmse(out_test, y_test)))"
   ]
  },
  {
   "cell_type": "code",
   "execution_count": null,
   "metadata": {
    "scrolled": false
   },
   "outputs": [
    {
     "data": {
      "image/png": "[encoded data removed]",
      "text/plain": [
       "<Figure size 432x288 with 1 Axes>"
      ]
     },
     "metadata": {
      "needs_background": "light"
     },
     "output_type": "display_data"
    }
   ],
   "source": [
    "plt.plot(out_test)\n",
    "plt.plot(y_test, '-r')\n",
    "plt.xlabel('Mês')\n",
    "plt.legend(('output', 'target'))\n",
    "plt.title('Comparação entre saída e rotulos no conjunto de teste.')\n",
    "plt.savefig('images/raw.png', bbox_inches='tight')\n",
    "plt.show()"
   ]
  },
  {
   "cell_type": "markdown",
   "metadata": {},
   "source": [
    "## b) Seleção de atributos usando wrapper (backward elimination), validação cruzada (k-fold) e regularização L2"
   ]
  },
  {
   "cell_type": "code",
   "execution_count": null,
   "metadata": {},
   "outputs": [],
   "source": [
    "mmq_l2 = lambda Phi, y, l: np.dot(np.dot(np.linalg.inv(np.dot(Phi.T, Phi) + l*np.eye(Phi.shape[1])), Phi.T), y)"
   ]
  },
  {
   "cell_type": "markdown",
   "metadata": {},
   "source": [
    "### K-fold"
   ]
  },
  {
   "cell_type": "code",
   "execution_count": null,
   "metadata": {},
   "outputs": [],
   "source": [
    "def kfold(Phi, y, L, lamb_vec, v=0):\n",
    "    \"\"\"Returns best rmse and lambda (ridge regularization param) using L folds for cross-validation.\"\"\"\n",
    "    N = Phi.shape[0]\n",
    "    min_rmse = 9999\n",
    "    min_lamb = None\n",
    "    M = N//L # size of folds\n",
    "    for l in lamb_vec:\n",
    "        error = 0\n",
    "        for i in range(L):\n",
    "            train_slc = list(range(i*M)) + list(range((i+1)*M, N))\n",
    "            test_slc = list(range(i*M,(i+1)*M))\n",
    "            w = mmq_l2(Phi[train_slc], y[train_slc], l)\n",
    "            out = linreg(w, Phi[test_slc])\n",
    "            error += rmse(out, y[test_slc])\n",
    "            if v:\n",
    "                print(error)\n",
    "        error /= L\n",
    "        if v:\n",
    "            print('[', error, ']')\n",
    "        if error < min_rmse:\n",
    "            min_rmse = error\n",
    "            min_lamb = l\n",
    "            \n",
    "    return (min_rmse, min_lamb)"
   ]
  },
  {
   "cell_type": "markdown",
   "metadata": {},
   "source": [
    "### Wrapper - backward elimination"
   ]
  },
  {
   "cell_type": "code",
   "execution_count": null,
   "metadata": {},
   "outputs": [],
   "source": [
    "def wrapper(Phi, y, K, L, lamb_vec, v=1):\n",
    "    \"\"\"Backward selection of the N inputs using K fold cross validation for choosing ridge regression hyperparameter.\"\"\"\n",
    "    idx_vec = list(range(21))\n",
    "    idx_mask = [1]*21\n",
    "    mask = [e for e, f in zip(idx_vec, idx_mask) if f]\n",
    "    ret = []\n",
    "    (error, lamb) = kfold(Phi, y, L, lamb_vec, v>1)\n",
    "    ret.append([0, error, lamb, mask])\n",
    "    for i in range(1, K):\n",
    "        min_error = 9999\n",
    "        for j in mask[1:]:\n",
    "            idx_mask[j] = 0\n",
    "            mask = [e for e, f in zip(idx_vec, idx_mask) if f]\n",
    "            (error, lamb) = kfold(Phi[:,mask], y, L, lamb_vec, v>1)\n",
    "            idx_mask[j] = 1\n",
    "            if error < min_error:\n",
    "                min_error = error\n",
    "                min_l = lamb\n",
    "                min_idx = j\n",
    "            if v > 1:\n",
    "                print(\"\\tN = {} | min RMSE = {:.4f} | drop= {} | lambda = {}\".format(i, error, j, lamb))\n",
    "        idx_mask[min_idx] = 0\n",
    "        mask = [e for e, f in zip(idx_vec, idx_mask) if f]\n",
    "        ret.append([i, min_error, min_l, mask])\n",
    "        if v > 0:\n",
    "            print(\"min RMSE = {:13.10f} | lambda = {} | Features: \".format(min_error, min_l), end=\"\")\n",
    "            print(mask)\n",
    "            print()\n",
    "    return ret"
   ]
  },
  {
   "cell_type": "code",
   "execution_count": null,
   "metadata": {
    "scrolled": true
   },
   "outputs": [
    {
     "name": "stdout",
     "output_type": "stream",
     "text": [
      "min RMSE = 15.4457249245 | lambda = 70 | Features: [0, 1, 2, 3, 4, 5, 6, 7, 8, 9, 10, 11, 12, 14, 15, 16, 17, 18, 19, 20]\n",
      "\n",
      "min RMSE = 15.4368725061 | lambda = 70 | Features: [0, 1, 2, 3, 4, 5, 6, 7, 8, 9, 10, 11, 14, 15, 16, 17, 18, 19, 20]\n",
      "\n",
      "min RMSE = 15.4318450853 | lambda = 70 | Features: [0, 1, 2, 3, 4, 5, 6, 7, 8, 9, 10, 11, 15, 16, 17, 18, 19, 20]\n",
      "\n"
     ]
    }
   ],
   "source": [
    "lamb_vec = [0, 1, 3, 6, 10, 20, 30, 40, 50, 60, 70, 80, 90, 100]\n",
    "vec = wrapper(Phi_train, y_train, 20, 5, lamb_vec, 1)"
   ]
  },
  {
   "cell_type": "code",
   "execution_count": null,
   "metadata": {
    "scrolled": true
   },
   "outputs": [],
   "source": [
    "vec = np.array(vec)\n",
    "idx = np.argmin(vec[:,1])\n",
    "print(vec[idx]) # row with best rmse"
   ]
  },
  {
   "cell_type": "code",
   "execution_count": null,
   "metadata": {
    "scrolled": true
   },
   "outputs": [],
   "source": [
    "plt.plot(vec[:,0], vec[:,1])\n",
    "plt.plot(vec[idx,0], vec[idx,1], 'rx')\n",
    "plt.xlabel(\"Número de atributos retirados\")\n",
    "plt.ylabel(\"RMSE mínimo\")\n",
    "plt.title(\"RMSE mínimo para número de atributos retirados\")\n",
    "plt.savefig('images/backward.png', bbox_inches='tight')\n",
    "plt.show()"
   ]
  },
  {
   "cell_type": "code",
   "execution_count": null,
   "metadata": {},
   "outputs": [],
   "source": [
    "w = mmq_l2(Phi_train[:,vec[idx,3]], y_train, vec[idx, 2])"
   ]
  },
  {
   "cell_type": "code",
   "execution_count": null,
   "metadata": {},
   "outputs": [],
   "source": [
    "out_train = linreg(w, Phi_train[:,vec[idx,3]])\n",
    "out_test_wrapper = linreg(w, Phi_test[:,vec[idx,3]])"
   ]
  },
  {
   "cell_type": "code",
   "execution_count": null,
   "metadata": {
    "scrolled": false
   },
   "outputs": [],
   "source": [
    "print(\"RMSE do conjunto de treino: {}\\nRMSE do conjunto de teste: {}\".format(rmse(out_train, y_train), rmse(out_test_wrapper, y_test)))"
   ]
  },
  {
   "cell_type": "code",
   "execution_count": null,
   "metadata": {},
   "outputs": [],
   "source": [
    "plt.plot(out_test_wrapper)\n",
    "plt.plot(y_test, '-r')\n",
    "plt.xlabel('Mês')\n",
    "plt.legend(('output', 'target'))\n",
    "plt.title('Comparação entre saída e rotulos no conjunto de teste.')\n",
    "plt.savefig('images/wrapper.png', bbox_inches='tight')\n",
    "plt.show()"
   ]
  },
  {
   "cell_type": "markdown",
   "metadata": {},
   "source": [
    "## c) Seleção de atributos usando filtro (correlação de Pearson)"
   ]
  },
  {
   "cell_type": "code",
   "execution_count": null,
   "metadata": {},
   "outputs": [],
   "source": [
    "corr = np.corrcoef(np.hstack(( y_train, X_train)).T)\n",
    "fig = plt.figure()\n",
    "ax1 = fig.add_subplot(111)\n",
    "cax = ax1.imshow(corr, interpolation=\"nearest\", cmap='coolwarm')\n",
    "ax1.grid(False)\n",
    "plt.title('Correlação')\n",
    "labels=[e for e in range(21)]\n",
    "ax1.set_axis_off()\n",
    "# Add colorbar, make sure to specify tick locations to match desired ticklabels\n",
    "fig.colorbar(cax)\n",
    "plt.savefig('images/corr.png', bbox_inches='tight')\n",
    "plt.show()"
   ]
  },
  {
   "cell_type": "code",
   "execution_count": null,
   "metadata": {},
   "outputs": [],
   "source": [
    "mask_corr = list(range(Phi_test.shape[1]))\n",
    "print(\"Atributos removidos: \", end=\"\")\n",
    "for i in range(idx):\n",
    "    a = np.argmin(corr[0])\n",
    "    print(a, end=\" \")\n",
    "    mask_corr.remove(a)\n",
    "    corr[0, a] = 999\n",
    "print()\n",
    "print(\"Atributos selecionados:\", mask_corr)"
   ]
  },
  {
   "cell_type": "markdown",
   "metadata": {},
   "source": [
    "### Validação cruzada para selecionar o melhor valor de lambda"
   ]
  },
  {
   "cell_type": "code",
   "execution_count": null,
   "metadata": {},
   "outputs": [],
   "source": [
    "_, l = kfold(Phi_train[:,mask_corr], y_train, 5, lamb_vec)\n",
    "print(\"lambda:\", l)"
   ]
  },
  {
   "cell_type": "code",
   "execution_count": null,
   "metadata": {},
   "outputs": [],
   "source": [
    "w = mmq_l2(Phi_train[:,mask_corr], y_train, l)\n",
    "out_train = linreg(w, Phi_train[:,mask_corr])\n",
    "out_test_corr = linreg(w, Phi_test[:,mask_corr])"
   ]
  },
  {
   "cell_type": "code",
   "execution_count": null,
   "metadata": {
    "scrolled": false
   },
   "outputs": [],
   "source": [
    "print(\"RMSE do conjunto de treino: {}\\nRMSE do conjunto de teste: {}\".format(rmse(out_train, y_train), rmse(out_test_corr, y_test)))"
   ]
  },
  {
   "cell_type": "code",
   "execution_count": null,
   "metadata": {},
   "outputs": [],
   "source": [
    "plt.plot(out_test_corr)\n",
    "plt.plot(y_test, '-r')\n",
    "plt.xlabel('Mês')\n",
    "plt.legend(('output', 'target'))\n",
    "plt.title('Comparação entre saída e rotulos no conjunto de teste.')\n",
    "plt.savefig('images/filter.png', bbox_inches='tight')\n",
    "plt.show()"
   ]
  },
  {
   "cell_type": "markdown",
   "metadata": {},
   "source": [
    "## Comparação entre as 3 abordagens"
   ]
  },
  {
   "cell_type": "code",
   "execution_count": null,
   "metadata": {},
   "outputs": [],
   "source": [
    "plt.plot(y_test, '-r')\n",
    "plt.plot(out_test, '-b')\n",
    "plt.plot(out_test_wrapper, 'orange')\n",
    "plt.plot(out_test_corr, 'g')\n",
    "\n",
    "plt.xlabel('Mês')\n",
    "plt.legend(('target', 'raw', 'wrapper', 'filter'))\n",
    "plt.title('Comparação entre modelos.')\n",
    "plt.savefig('images/comparison.png', bbox_inches='tight')\n",
    "plt.show()\n",
    "\n",
    "print(\"RMSE raw: {}\".format(rmse(out_test, y_test)))\n",
    "print(\"RMSE wrapper: {}\".format(rmse(out_test_wrapper, y_test)))\n",
    "print(\"RMSE filter: {}\".format(rmse(out_test_corr, y_test)))"
   ]
  }
 ],
 "metadata": {
  "kernelspec": {
   "display_name": "Python 3",
   "language": "python",
   "name": "python3"
  },
  "language_info": {
   "codemirror_mode": {
    "name": "ipython",
    "version": 3
   },
   "file_extension": ".py",
   "mimetype": "text/x-python",
   "name": "python",
   "nbconvert_exporter": "python",
   "pygments_lexer": "ipython3",
   "version": "3.7.3"
  }
 },
 "nbformat": 4,
 "nbformat_minor": 2
}
