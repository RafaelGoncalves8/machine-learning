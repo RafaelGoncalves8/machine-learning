{
 "cells": [
  {
   "cell_type": "markdown",
   "metadata": {},
   "source": [
    "$\\text{Nome: Rafael Gonçalves  -  RA: 186062}$"
   ]
  },
  {
   "cell_type": "markdown",
   "metadata": {},
   "source": [
    "# Parte I - Atividades teóricas"
   ]
  },
  {
   "cell_type": "markdown",
   "metadata": {},
   "source": [
    "## Exercício 1"
   ]
  },
  {
   "cell_type": "markdown",
   "metadata": {},
   "source": [
    "a) $P(A^C) = 1 - P(A) = 1 - \\frac{1}{3} = \\frac{2}{3}$\n",
    "\n",
    "b) $P(A^C \\cup B) = P(A^C) + P(B) - P(A^CB) = P(A^C) + P(B) - (P(B) - P(AB)) = P(A^C) + P(AB) = \\frac{2}{3} + \\frac{1}{6} = \\frac{5}{6}$\n",
    "\n",
    "c) $P(A \\cup B^C) = P(A) + P(B^C) - P(AB^C) = P(B^C) + P(AB) = (1 - P(B)) + P(AB) = (1 - \\frac{1}{4}) + \\frac{1}{6} = \\frac{5}{12}$\n",
    "\n",
    "d) $P(AB^C) = P(A) + P(B^C) - P(A \\cup B^C) = \\frac{1}{3} + \\frac{3}{4} - \\frac{5}{12} = \\frac{8}{12}$\n",
    "\n",
    "e) $P(A^C \\cup B^C) = P(A^C) + P(B^C) - P(A^CB^C) = \\frac{2}{3} + \\frac{3}{4} - \\frac{5}{6} = \\frac{7}{12}$"
   ]
  },
  {
   "cell_type": "markdown",
   "metadata": {},
   "source": [
    "## Exercício 2"
   ]
  },
  {
   "cell_type": "markdown",
   "metadata": {},
   "source": [
    "a) $$\n",
    "    F_X(x) = P(X \\leq x) = \\int\\limits_{-\\infty}^x f_X(\\xi) d\\xi = \\int\\limits_{-\\infty}^x \\frac{1}{2} d\\xi = \\left[ \\frac{1}{2}\\xi \\right]^x_0 = \\frac{1}{2} x, \\forall X \\in [0, 2]\n",
    "$$\n",
    "\n",
    "b)\n",
    "\n",
    "$E\\{X\\} = \\int\\limits_{-\\infty}^{\\infty} xf_X(x)dx = \\int\\limits_0^2 \\frac{1}{2}x dx = \\left[\\frac{x^2}{4}\\right]^2_0 = 1$\n",
    "\n",
    "$E\\{X^2\\} = \\int\\limits_{-\\infty}^{\\infty} x^2f_X(x)dx = \\int\\limits_0^2 \\frac{1}{2}x^2 dx = \\left[\\frac{x^3}{6}\\right]^2_0 = \\frac{4}{3}$\n",
    "\n",
    "$E\\{X^3\\} = \\int\\limits_{-\\infty}^{\\infty} x^3f_X(x)dx = \\int\\limits_0^2 \\frac{1}{2}x^3 dx = \\left[\\frac{x^4}{8}\\right]^2_0 = 2$"
   ]
  },
  {
   "cell_type": "markdown",
   "metadata": {},
   "source": [
    "## Exercício 3"
   ]
  },
  {
   "cell_type": "markdown",
   "metadata": {},
   "source": [
    "a) $X_2$, pois quanto mais próximo da distribuição uniforme, mais difícil é acertar o resultado de um evento aleatório \"chutando um valor\", ou seja, a variável aleatória $X_2$ carrega mais informação que a variável aleatória $X_1$, pois neste último eu poderia supor que o resultado será sempre 3 com uma taxa de acertos de 40% contra uma taxa de acertos de 25% para qualquer valor estimado para $X_2$ se não tivermos nenhuma informação _a priori_.\n",
    "\n",
    "b)\n",
    "\n",
    "$H(X_1) = - \\sum\\limits_x p(X_1)log_2[p(X_1)] = -[0,1(-3,32) + 0,2(-2,32) + 0,3(-1,74) + 0,4(-1,32)] = 1,85$\n",
    "\n",
    "$H(X_2) = - \\sum\\limits_x p(X_2)log_2[p(X_2)] = - [0,25 (-2) + 0,25 (-2) + 0,25 (-2) + 0,25(-2)] = 2$\n",
    "\n",
    "c)\n",
    "\n",
    "$D(P_1 || P_2) = \\sum\\limits_x p(X_1)log_2\\left[\\frac{p(X_1)}{p(X_2)}\\right] = 0,1(-1,32) + 0,2(-0,32) + 0,3(-0,26) + 0,4(-0,68) = -0,54$\n",
    "\n",
    "$D(P_2 || P_1) = \\sum\\limits_x p(X_2)log_2\\left[\\frac{p(X_2)}{p(X_1)}\\right] = 0,25(1.32 +  0.32 - 0.26 -0.68) = 0,18$"
   ]
  },
  {
   "cell_type": "markdown",
   "metadata": {},
   "source": [
    "## Exercício 4"
   ]
  },
  {
   "cell_type": "markdown",
   "metadata": {},
   "source": [
    "a) $\\mu_{ML} = arg max_\\theta p(x|\\mu) = arg max_\\theta log[p(x|\\mu)] = arg max_\\theta \\frac{p(x\\mu)}{p(\\mu)} = x$\n",
    "\n",
    "b) $\\mu_{ML} = arg max_\\theta p(\\mathbf{x}|\\mu) = arg ax_\\theta log[p(\\mathbf{x}|\\mu)] = arg max_\\theta \\sum\\limits_{k=1}^{N} log[p(x_K|\\mu)] =  arg max_\\theta \\sum\\limits_{k=1}^{N} log\\left[\\frac{p(x_K\\mu)}{p(\\mu)}\\right] $\n",
    "\n",
    "c) "
   ]
  },
  {
   "cell_type": "markdown",
   "metadata": {},
   "source": [
    "# Parte II - Atividade computacional"
   ]
  },
  {
   "cell_type": "markdown",
   "metadata": {},
   "source": [
    "### Importa bibliotecas"
   ]
  },
  {
   "cell_type": "code",
   "execution_count": 7,
   "metadata": {},
   "outputs": [],
   "source": [
    "import os\n",
    "import urllib.request\n",
    "\n",
    "import numpy as np\n",
    "import matplotlib.pyplot as plt"
   ]
  },
  {
   "cell_type": "markdown",
   "metadata": {},
   "source": [
    "### Download dataset"
   ]
  },
  {
   "cell_type": "code",
   "execution_count": 8,
   "metadata": {},
   "outputs": [
    {
     "data": {
      "text/plain": [
       "('/home/rafael/inbox/machine-learning/data/sunspot.txt',\n",
       " <http.client.HTTPMessage at 0x7f2ab22a05f8>)"
      ]
     },
     "execution_count": 8,
     "metadata": {},
     "output_type": "execute_result"
    }
   ],
   "source": [
    "data_url = 'http://www.dca.fee.unicamp.br/~lboccato/sunspot.txt'\n",
    "data_dir = os.path.abspath(os.path.relpath('../data'))\n",
    "data_path = os.path.join(data_dir, 'sunspot.txt')\n",
    "\n",
    "urllib.request.urlretrieve(data_url, data_path)"
   ]
  },
  {
   "cell_type": "code",
   "execution_count": 9,
   "metadata": {},
   "outputs": [
    {
     "name": "stdout",
     "output_type": "stream",
     "text": [
      " 1749   58.0  62.6  70.0  55.7  85.0  83.5  94.8  66.3  75.9  75.5 158.6  85.2\r\n",
      " 1750   73.3  75.9  89.2  88.3  90.0 100.0  85.4 103.0  91.2  65.7  63.3  75.4\r\n",
      " 1751   70.0  43.5  45.3  56.4  60.7  50.7  66.3  59.8  23.5  23.2  28.5  44.0\r\n",
      " 1752   35.0  50.0  71.0  59.3  59.7  39.6  78.4  29.3  27.1  46.6  37.6  40.0\r\n",
      " 1753   44.0  32.0  45.7  38.0  36.0  31.7  22.0  39.0  28.0  25.0  20.0   6.7\r\n",
      " 1754    0.0   3.0   1.7  13.7  20.7  26.7  18.8  12.3   8.2  24.1  13.2   4.2\r\n",
      " 1755   10.2  11.2   6.8   6.5   0.0   0.0   8.6   3.2  17.8  23.7   6.8  20.0\r\n",
      " 1756   12.5   7.1   5.4   9.4  12.5  12.9   3.6   6.4  11.8  14.3  17.0   9.4\r\n",
      " 1757   14.1  21.2  26.2  30.0  38.1  12.8  25.0  51.3  39.7  32.5  64.7  33.5\r\n",
      " 1758   37.6  52.0  49.0  72.3  46.4  45.0  44.0  38.7  62.5  37.7  43.0  43.0\r\n"
     ]
    }
   ],
   "source": [
    "%%bash\n",
    "head ../data/sunspot.txt"
   ]
  },
  {
   "cell_type": "markdown",
   "metadata": {},
   "source": [
    "### Importa dataset"
   ]
  },
  {
   "cell_type": "code",
   "execution_count": 10,
   "metadata": {},
   "outputs": [],
   "source": [
    "dataset = np.loadtxt(data_path, usecols=range(1,13))"
   ]
  },
  {
   "cell_type": "code",
   "execution_count": 11,
   "metadata": {},
   "outputs": [
    {
     "data": {
      "text/plain": [
       "(266, 12)"
      ]
     },
     "execution_count": 11,
     "metadata": {},
     "output_type": "execute_result"
    }
   ],
   "source": [
    "dataset.shape"
   ]
  },
  {
   "cell_type": "markdown",
   "metadata": {},
   "source": [
    "### Cria conjunto de teste e conjunto de treino"
   ]
  },
  {
   "cell_type": "code",
   "execution_count": 12,
   "metadata": {},
   "outputs": [],
   "source": [
    "K = 20 # temporal window size\n",
    "X = [[]*K]\n",
    "y = []\n",
    "\n",
    "for i, e in enumerate(dataset.flatten()[K:]):\n",
    "    j = i + K # index of original dataset.flatten()\n",
    "    X.append([])\n",
    "    for k in range(K):\n",
    "        X[i].append(dataset.flatten()[j-(k+1)])\n",
    "    y.append(e)"
   ]
  },
  {
   "cell_type": "code",
   "execution_count": 13,
   "metadata": {},
   "outputs": [],
   "source": [
    "X_train = np.array(X[:-5])\n",
    "X_test = np.array(X[-5:])\n",
    "y_train = np.array(y[:-5])\n",
    "y_test = np.array(y[-5:])"
   ]
  },
  {
   "cell_type": "markdown",
   "metadata": {},
   "source": [
    "### Define RMSE como critério de erro"
   ]
  },
  {
   "cell_type": "code",
   "execution_count": 14,
   "metadata": {},
   "outputs": [],
   "source": [
    "def rmse(output, target):\n",
    "    error = np.subtract(output, target)\n",
    "    error = np.square(error)\n",
    "    error = np.sum(error)/np.size(error)\n",
    "    return np.sqrt(error)"
   ]
  },
  {
   "cell_type": "code",
   "execution_count": 47,
   "metadata": {},
   "outputs": [],
   "source": [
    "linreg = lambda W, X, b: np.dot(W.T, X) + b"
   ]
  },
  {
   "cell_type": "code",
   "execution_count": null,
   "metadata": {},
   "outputs": [],
   "source": []
  }
 ],
 "metadata": {
  "kernelspec": {
   "display_name": "Python 3",
   "language": "python",
   "name": "python3"
  },
  "language_info": {
   "codemirror_mode": {
    "name": "ipython",
    "version": 3
   },
   "file_extension": ".py",
   "mimetype": "text/x-python",
   "name": "python",
   "nbconvert_exporter": "python",
   "pygments_lexer": "ipython3",
   "version": "3.7.3"
  }
 },
 "nbformat": 4,
 "nbformat_minor": 2
}
